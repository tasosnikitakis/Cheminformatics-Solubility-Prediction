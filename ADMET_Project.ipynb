{
  "nbformat": 4,
  "nbformat_minor": 0,
  "metadata": {
    "colab": {
      "provenance": [],
      "authorship_tag": "ABX9TyNP4HIjP/QdRkRJQ1YFhRwQ",
      "include_colab_link": true
    },
    "kernelspec": {
      "name": "python3",
      "display_name": "Python 3"
    },
    "language_info": {
      "name": "python"
    }
  },
  "cells": [
    {
      "cell_type": "markdown",
      "metadata": {
        "id": "view-in-github",
        "colab_type": "text"
      },
      "source": [
        "<a href=\"https://colab.research.google.com/github/tasosnikitakis/Cheminformatics-Solubility-Prediction/blob/main/ADMET_Project.ipynb\" target=\"_parent\"><img src=\"https://colab.research.google.com/assets/colab-badge.svg\" alt=\"Open In Colab\"/></a>"
      ]
    },
    {
      "cell_type": "markdown",
      "source": [
        "**Define the ADMET Property**\n",
        "\n",
        "In drug discovery, ADMET (Absorption, Distribution, Metabolism, Excretion, and Toxicity) properties are critical for determining whether a potential drug molecule is viable. A compound might be highly effective at its target, but if it's not absorbed by the body, is toxic, or is metabolized too quickly, it will fail as a drug.\n",
        "\n",
        "For this project, we will focus on a fundamental \"A\" and \"D\" property: Aqueous Solubility. This property, often measured as LogS (the logarithm of the molar solubility), dictates how well a compound dissolves in water. Poor solubility can lead to low absorption and bioavailability, making it a key failure point for many drug candidates. Our objective is to build a machine learning model that can predict the LogS of a molecule based solely on its chemical structure."
      ],
      "metadata": {
        "id": "9pT8mC-D3Pyy"
      }
    },
    {
      "cell_type": "markdown",
      "source": [
        "**Sourcing and Downloading Data**\n",
        "\n",
        "To train our model, we need a dataset of molecules with experimentally measured solubility values. We will use a well-known dataset published by John S. Delaney in his 2004 paper, \"ESOL: Estimating Aqueous Solubility Directly from Molecular Structure\".\n",
        "\n",
        "About the Dataset:\n",
        "\n",
        "Content: It contains 1144 diverse small organic molecules.\n",
        "Features: For each molecule, it provides the chemical structure as a SMILES string (a text-based representation of a molecule) and its measured LogS value.\n",
        "Source: The data is publicly available and is considered a standard benchmark for Quantitative Structure-Activity Relationship (QSAR) models.\n",
        "We will load this data directly from a public repository into a pandas DataFrame, which provides a convenient tabular structure for us to work with."
      ],
      "metadata": {
        "id": "VIPDPanY3oy5"
      }
    },
    {
      "cell_type": "code",
      "execution_count": 2,
      "metadata": {
        "colab": {
          "base_uri": "https://localhost:8080/"
        },
        "id": "Nt_hSpblkh8d",
        "outputId": "8fd2ebc5-ea2d-492d-e967-f85390e8befb"
      },
      "outputs": [
        {
          "output_type": "stream",
          "name": "stdout",
          "text": [
            "Data loaded successfully!\n",
            "\n",
            "First 5 rows of the dataset:\n",
            "                      Compound ID  measured log(solubility:mol/L)  \\\n",
            "0       1,1,1,2-Tetrachloroethane                           -2.18   \n",
            "1           1,1,1-Trichloroethane                           -2.00   \n",
            "2       1,1,2,2-Tetrachloroethane                           -1.74   \n",
            "3           1,1,2-Trichloroethane                           -1.48   \n",
            "4  1,1,2-Trichlorotrifluoroethane                           -3.04   \n",
            "\n",
            "   ESOL predicted log(solubility:mol/L)               SMILES  \n",
            "0                                -2.794       ClCC(Cl)(Cl)Cl  \n",
            "1                                -2.232         CC(Cl)(Cl)Cl  \n",
            "2                                -2.549       ClC(Cl)C(Cl)Cl  \n",
            "3                                -1.961           ClCC(Cl)Cl  \n",
            "4                                -3.077  FC(F)(Cl)C(F)(Cl)Cl  \n",
            "\n",
            "Dataset Information:\n",
            "<class 'pandas.core.frame.DataFrame'>\n",
            "RangeIndex: 1144 entries, 0 to 1143\n",
            "Data columns (total 4 columns):\n",
            " #   Column                                Non-Null Count  Dtype  \n",
            "---  ------                                --------------  -----  \n",
            " 0   Compound ID                           1144 non-null   object \n",
            " 1   measured log(solubility:mol/L)        1144 non-null   float64\n",
            " 2   ESOL predicted log(solubility:mol/L)  1144 non-null   float64\n",
            " 3   SMILES                                1144 non-null   object \n",
            "dtypes: float64(2), object(2)\n",
            "memory usage: 35.9+ KB\n"
          ]
        }
      ],
      "source": [
        "import pandas as pd\n",
        "\n",
        "# The URL to the raw CSV data file of the Delaney dataset\n",
        "url = 'https://raw.githubusercontent.com/dataprofessor/data/master/delaney.csv'\n",
        "\n",
        "try:\n",
        "    # Read the data from the URL into a pandas DataFrame.\n",
        "    solubility_df = pd.read_csv(url)\n",
        "\n",
        "    print(\"Data loaded successfully!\")\n",
        "    # Display the first 5 rows of the DataFrame to inspect the data\n",
        "    print(\"\\nFirst 5 rows of the dataset:\")\n",
        "    print(solubility_df.head())\n",
        "\n",
        "    # Display some information about the DataFrame\n",
        "    print(\"\\nDataset Information:\")\n",
        "    solubility_df.info()\n",
        "\n",
        "except Exception as e:\n",
        "    print(f\"An error occurred: {e}\")\n",
        "    print(\"\\nPlease ensure you have an internet connection and the pandas library is installed (`pip install pandas`).\")\n",
        "    print(f\"You can also manually download the file from: {url}\")"
      ]
    },
    {
      "cell_type": "markdown",
      "source": [
        "**Data Cleaning and Preparation**\n",
        "\n",
        "Before we can use the data, we need to prepare it for our cheminformatics workflow. This involves two main tasks:\n",
        "\n",
        "Tidying the DataFrame: We will select only the columns essential for our model—the SMILES strings and the LogS values. We'll also rename these columns to be simpler (smiles, logS) for easier access in our code.\n",
        "Creating RDKit Molecule Objects: The SMILES strings are currently just text. To perform chemical calculations, we must convert them into a format that a cheminformatics library can understand. We will use the powerful RDKit library to parse each SMILES string and create a \"molecule object\". This object contains a rich representation of the molecule's structure, including its atoms, bonds, and connectivity, which is essential for the next step. This process also serves to validate the SMILES strings, ensuring they represent valid chemical structures."
      ],
      "metadata": {
        "id": "E9bIDJeX36EA"
      }
    },
    {
      "cell_type": "code",
      "source": [
        "#RDKit library installation\n",
        "!pip install rdkit-pypi"
      ],
      "metadata": {
        "colab": {
          "base_uri": "https://localhost:8080/"
        },
        "id": "38B6sIoblS6w",
        "outputId": "05d32022-ca2a-40cc-c5e5-d795145fcb54"
      },
      "execution_count": 3,
      "outputs": [
        {
          "output_type": "stream",
          "name": "stdout",
          "text": [
            "Collecting rdkit-pypi\n",
            "  Downloading rdkit_pypi-2022.9.5-cp311-cp311-manylinux_2_17_x86_64.manylinux2014_x86_64.whl.metadata (3.9 kB)\n",
            "Requirement already satisfied: numpy in /usr/local/lib/python3.11/dist-packages (from rdkit-pypi) (2.0.2)\n",
            "Requirement already satisfied: Pillow in /usr/local/lib/python3.11/dist-packages (from rdkit-pypi) (11.2.1)\n",
            "Downloading rdkit_pypi-2022.9.5-cp311-cp311-manylinux_2_17_x86_64.manylinux2014_x86_64.whl (29.4 MB)\n",
            "\u001b[2K   \u001b[90m━━━━━━━━━━━━━━━━━━━━━━━━━━━━━━━━━━━━━━━━\u001b[0m \u001b[32m29.4/29.4 MB\u001b[0m \u001b[31m66.5 MB/s\u001b[0m eta \u001b[36m0:00:00\u001b[0m\n",
            "\u001b[?25hInstalling collected packages: rdkit-pypi\n",
            "Successfully installed rdkit-pypi-2022.9.5\n"
          ]
        }
      ]
    },
    {
      "cell_type": "code",
      "source": [
        "# Install RDKit first if the environment has reset\n",
        "!pip install rdkit-pypi\n",
        "\n",
        "import pandas as pd\n",
        "from rdkit import Chem\n",
        "\n",
        "# --- Let's start fresh to ensure everything is correct ---\n",
        "\n",
        "# 1. Load the data from the URL\n",
        "url = 'https://raw.githubusercontent.com/dataprofessor/data/master/delaney.csv'\n",
        "solubility_df = pd.read_csv(url)\n",
        "\n",
        "# 2. DEBUG: Print the exact column names to see what pandas loaded\n",
        "print(\"Exact column names from the file:\")\n",
        "print(solubility_df.columns)\n",
        "print(\"-\" * 30) # A separator for clarity\n",
        "\n",
        "# 3. Select relevant columns and rename them\n",
        "#    We will use the exact names printed above.\n",
        "df = solubility_df[['SMILES', 'measured log(solubility:mol/L)']].copy()\n",
        "df.rename(columns={'SMILES': 'smiles', 'measured log(solubility) in mols/L': 'logS'}, inplace=True)\n",
        "\n",
        "print(\"DataFrame after selecting and renaming columns:\")\n",
        "print(df.head())\n",
        "print(\"-\" * 30)\n",
        "\n",
        "# 4. Create RDKit molecule objects from SMILES strings\n",
        "mols = [Chem.MolFromSmiles(smi) for smi in df['smiles']]\n",
        "\n",
        "# Check for any molecules that RDKit failed to parse (good practice)\n",
        "invalid_smiles_count = mols.count(None)\n",
        "if invalid_smiles_count > 0:\n",
        "    print(f\"Warning: RDKit could not parse {invalid_smiles_count} SMILES strings.\")\n",
        "    df = df[pd.Series(mols).notna()] # Remove rows with invalid SMILES\n",
        "    mols = [m for m in mols if m is not None]\n",
        "\n",
        "# Add the molecule objects as a new column in our DataFrame\n",
        "df['molecule'] = mols\n",
        "\n",
        "print(f\"Successfully created {len(df)} RDKit molecule objects.\")\n",
        "print(\"\\nFinal prepared DataFrame with 'molecule' column:\")\n",
        "print(df.head())"
      ],
      "metadata": {
        "colab": {
          "base_uri": "https://localhost:8080/"
        },
        "id": "TjJkAvkWlZsG",
        "outputId": "9ac7016e-90f8-4a55-c8f0-f19ddc4c2964"
      },
      "execution_count": 8,
      "outputs": [
        {
          "output_type": "stream",
          "name": "stdout",
          "text": [
            "Requirement already satisfied: rdkit-pypi in /usr/local/lib/python3.11/dist-packages (2022.9.5)\n",
            "Requirement already satisfied: numpy in /usr/local/lib/python3.11/dist-packages (from rdkit-pypi) (2.0.2)\n",
            "Requirement already satisfied: Pillow in /usr/local/lib/python3.11/dist-packages (from rdkit-pypi) (11.2.1)\n",
            "Exact column names from the file:\n",
            "Index(['Compound ID', 'measured log(solubility:mol/L)',\n",
            "       'ESOL predicted log(solubility:mol/L)', 'SMILES'],\n",
            "      dtype='object')\n",
            "------------------------------\n",
            "DataFrame after selecting and renaming columns:\n",
            "                smiles  measured log(solubility:mol/L)\n",
            "0       ClCC(Cl)(Cl)Cl                           -2.18\n",
            "1         CC(Cl)(Cl)Cl                           -2.00\n",
            "2       ClC(Cl)C(Cl)Cl                           -1.74\n",
            "3           ClCC(Cl)Cl                           -1.48\n",
            "4  FC(F)(Cl)C(F)(Cl)Cl                           -3.04\n",
            "------------------------------\n",
            "Successfully created 1144 RDKit molecule objects.\n",
            "\n",
            "Final prepared DataFrame with 'molecule' column:\n",
            "                smiles  measured log(solubility:mol/L)  \\\n",
            "0       ClCC(Cl)(Cl)Cl                           -2.18   \n",
            "1         CC(Cl)(Cl)Cl                           -2.00   \n",
            "2       ClC(Cl)C(Cl)Cl                           -1.74   \n",
            "3           ClCC(Cl)Cl                           -1.48   \n",
            "4  FC(F)(Cl)C(F)(Cl)Cl                           -3.04   \n",
            "\n",
            "                                           molecule  \n",
            "0  <rdkit.Chem.rdchem.Mol object at 0x7d64dae60970>  \n",
            "1  <rdkit.Chem.rdchem.Mol object at 0x7d64dae60580>  \n",
            "2  <rdkit.Chem.rdchem.Mol object at 0x7d64dae60c10>  \n",
            "3  <rdkit.Chem.rdchem.Mol object at 0x7d64dae60ba0>  \n",
            "4  <rdkit.Chem.rdchem.Mol object at 0x7d64dae60dd0>  \n"
          ]
        }
      ]
    },
    {
      "cell_type": "code",
      "source": [
        "# Let's rename the column to the simpler 'logS'\n",
        "df.rename(columns={'measured log(solubility:mol/L)': 'logS'}, inplace=True)\n",
        "\n",
        "# Also rename the smiles column if it didn't get renamed\n",
        "if 'SMILES' in df.columns:\n",
        "    df.rename(columns={'SMILES': 'smiles'}, inplace=True)\n",
        "\n",
        "print(\"Corrected column names:\")\n",
        "print(df.columns)"
      ],
      "metadata": {
        "colab": {
          "base_uri": "https://localhost:8080/"
        },
        "id": "CbKQyW2pnDaS",
        "outputId": "7d05857e-a8a6-43ed-923f-44a95d8ac5bb"
      },
      "execution_count": 10,
      "outputs": [
        {
          "output_type": "stream",
          "name": "stdout",
          "text": [
            "Corrected column names:\n",
            "Index(['smiles', 'logS', 'molecule'], dtype='object')\n"
          ]
        }
      ]
    },
    {
      "cell_type": "markdown",
      "source": [
        "**Molecular Feature Calculation (Feature Engineering)**\n",
        "\n",
        "A machine learning model cannot understand a chemical structure directly; it needs numerical inputs. Feature Engineering is the process of converting our abstract molecule objects into a set of meaningful numbers, known as molecular descriptors. These descriptors are numerical values that quantify different physicochemical properties of a molecule.\n",
        "\n",
        "Using RDKit, we will calculate five common and interpretable descriptors for each molecule:\n",
        "\n",
        "**MolWt**: Molecular Weight, which represents the size of the molecule.\n",
        "**MolLogP**: The logarithm of the octanol-water partition coefficient, a key measure of a molecule's hydrophobicity (greasiness).\n",
        "**NumHDonors**: The number of hydrogen bond donors, related to polarity.\n",
        "**NumHAcceptors**: The number of hydrogen bond acceptors, also related to polarity.\n",
        "**TPSA**: Topological Polar Surface Area, another measure of polarity that is important for cell membrane permeability.\n",
        "The output of this step will be a clean, numerical DataFrame where each row is a molecule and each column is a feature (a descriptor or the target logS value), ready for model training."
      ],
      "metadata": {
        "id": "aecY0GI54aCD"
      }
    },
    {
      "cell_type": "code",
      "source": [
        "from rdkit.Chem import Descriptors\n",
        "import numpy as np\n",
        "\n",
        "# Define the list of descriptor functions we want to calculate\n",
        "descriptor_list = {\n",
        "    \"MolWt\": Descriptors.MolWt,\n",
        "    \"MolLogP\": Descriptors.MolLogP,\n",
        "    \"NumHDonors\": Descriptors.NumHDonors,\n",
        "    \"NumHAcceptors\": Descriptors.NumHAcceptors,\n",
        "    \"TPSA\": Descriptors.TPSA\n",
        "}\n",
        "\n",
        "# Creating a function to calculate descriptors for a single molecule\n",
        "def calculate_descriptors(molecule):\n",
        "    try:\n",
        "        # Calculate all descriptors in our list for the given molecule\n",
        "        return [func(molecule) for func in descriptor_list.values()]\n",
        "    except:\n",
        "        # Return a list of NaNs if calculation fails\n",
        "        return [np.nan] * len(descriptor_list)\n",
        "\n",
        "# Apply the function to the 'molecule' column and create a new DataFrame\n",
        "descriptors_df = pd.DataFrame(\n",
        "    [calculate_descriptors(mol) for mol in df['molecule']],\n",
        "    columns=descriptor_list.keys()\n",
        ")\n",
        "\n",
        "# --- Combine our features (descriptors) and target (logS) ---\n",
        "\n",
        "# First, drop any rows where descriptor calculation might have failed\n",
        "descriptors_df.dropna(inplace=True)\n",
        "\n",
        "# Concatenate the descriptors DataFrame with our original DataFrame\n",
        "# We align them by index to make sure everything matches up.\n",
        "model_df = pd.concat([df.loc[descriptors_df.index], descriptors_df], axis=1)\n",
        "\n",
        "# We no longer need the 'smiles' and 'molecule' columns for the model itself\n",
        "model_df.drop(['smiles', 'molecule'], axis=1, inplace=True)\n",
        "\n",
        "\n",
        "print(\"Shape of the final DataFrame for modeling:\", model_df.shape)\n",
        "print(\"\\nFirst 5 rows of our final model-ready data:\")\n",
        "print(model_df.head())"
      ],
      "metadata": {
        "colab": {
          "base_uri": "https://localhost:8080/"
        },
        "id": "JH-u6QI3ni7k",
        "outputId": "ee776fce-08b5-4d87-df6d-970afa412ee8"
      },
      "execution_count": 11,
      "outputs": [
        {
          "output_type": "stream",
          "name": "stdout",
          "text": [
            "Shape of the final DataFrame for modeling: (1144, 6)\n",
            "\n",
            "First 5 rows of our final model-ready data:\n",
            "   logS    MolWt  MolLogP  NumHDonors  NumHAcceptors  TPSA\n",
            "0 -2.18  167.850   2.5954           0              0   0.0\n",
            "1 -2.00  133.405   2.3765           0              0   0.0\n",
            "2 -1.74  167.850   2.5938           0              0   0.0\n",
            "3 -1.48  133.405   2.0289           0              0   0.0\n",
            "4 -3.04  187.375   2.9189           0              0   0.0\n"
          ]
        }
      ]
    },
    {
      "cell_type": "markdown",
      "source": [
        "**Splitting the Dataset**\n",
        " We split our dataset into two parts:\n",
        "\n",
        "Training Set: (typically 80%) is what the machine learning model will actually \"see\" and learn the underlying patterns from.\n",
        "Testing Set: This remaining portion (typically 20%). We use this set at the very end to evaluate how well our model generalizes to new, unknown data.\n",
        "This process prevents overfitting. We will use the train_test_split function from the popular Scikit-learn library to perform this split."
      ],
      "metadata": {
        "id": "9Hdhk2zQosZF"
      }
    },
    {
      "cell_type": "code",
      "source": [
        "from sklearn.model_selection import train_test_split\n",
        "\n",
        "# 1. Define our Features (X) and Target (y)\n",
        "# X contains all the descriptor columns (our model's input)\n",
        "X = model_df.drop('logS', axis=1)\n",
        "\n",
        "# y contains only our target variable, logS (what the model predicts)\n",
        "y = model_df['logS']\n",
        "\n",
        "\n",
        "# 2. Split the data into training and testing sets\n",
        "# test_size=0.2 means we'll use 20% of the data for the test set.\n",
        "# random_state=42 ensures that we get the same random split every time we run the code.\n",
        "# This makes our results reproducible.\n",
        "X_train, X_test, y_train, y_test = train_test_split(X, y, test_size=0.2, random_state=42)\n",
        "\n",
        "\n",
        "# 3. Print the shapes of the new data sets to verify the split\n",
        "print(\"Shape of Features (X):\", X.shape)\n",
        "print(\"Shape of Target (y):\", y.shape)\n",
        "print(\"-\" * 30)\n",
        "print(\"Shape of Training Features (X_train):\", X_train.shape)\n",
        "print(\"Shape of Testing Features (X_test):\", X_test.shape)\n",
        "print(\"Shape of Training Target (y_train):\", y_train.shape)\n",
        "print(\"Shape of Testing Target (y_test):\", y_test.shape)"
      ],
      "metadata": {
        "colab": {
          "base_uri": "https://localhost:8080/"
        },
        "id": "lFS3Wc8PpVxK",
        "outputId": "4ca98878-36f8-41cd-bc64-7499071c3c4c"
      },
      "execution_count": 12,
      "outputs": [
        {
          "output_type": "stream",
          "name": "stdout",
          "text": [
            "Shape of Features (X): (1144, 5)\n",
            "Shape of Target (y): (1144,)\n",
            "------------------------------\n",
            "Shape of Training Features (X_train): (915, 5)\n",
            "Shape of Testing Features (X_test): (229, 5)\n",
            "Shape of Training Target (y_train): (915,)\n",
            "Shape of Testing Target (y_test): (229,)\n"
          ]
        }
      ]
    },
    {
      "cell_type": "markdown",
      "source": [
        "**Model Selection and Initial Training**\n",
        "\n",
        "Now that we have our training and testing sets, it's time to choose a machine learning algorithm and train it. Since our goal is to predict a continuous value (the logS), this is a regression problem.\n",
        "\n",
        "There are many great regression algorithms, but we will start with a powerful and popular one: the Random Forest Regressor.\n",
        "\n",
        "We chose Random Forest because of the following characteristics:\n",
        "\n",
        "**High Performance**: It's an \"ensemble\" model, meaning it builds many individual decision trees and combines their predictions. This collective approach makes it highly accurate and robust.\n",
        "\n",
        "**Handles Complexity**: It can capture complex, non-linear relationships between the molecular features and the solubility, which are common in chemistry.\n",
        "**Resistant to Overfitting**: Compared to a single decision tree, it is much less likely to \"memorize\" the training data.\n",
        "\n",
        "**No Feature Scaling Needed**: It does not require us to scale our input features (like MolWt and MolLogP) to be on the same range.\n",
        "\n",
        "In this step, we will instantiate the model and train it on our X_train and y_train data using the .fit() method."
      ],
      "metadata": {
        "id": "f6NhelVSqOg0"
      }
    },
    {
      "cell_type": "code",
      "source": [
        "from sklearn.ensemble import RandomForestRegressor\n",
        "\n",
        "# 1. Instantiate the model\n",
        "# We use random_state=42 to ensure the model's random processes are the same each time,\n",
        "# leading to reproducible results. n_estimators is the number of trees in the forest.\n",
        "rf_model = RandomForestRegressor(n_estimators=100, random_state=42)\n",
        "\n",
        "\n",
        "# 2. Fitting the model on the training data\n",
        "print(\"Training the Random Forest model...\")\n",
        "rf_model.fit(X_train, y_train)\n",
        "print(\"Model training complete.\")\n",
        "\n",
        "\n",
        "# 3. Use the trained model to make predictions on the test set\n",
        "y_pred_test = rf_model.predict(X_test)\n",
        "\n",
        "# We can also see how the model performs on the data it was trained on\n",
        "y_pred_train = rf_model.predict(X_train)\n",
        "\n",
        "# The variables y_pred_test and y_pred_train now hold the model's predictions.\n",
        "# In the next step, we will evaluate how good these predictions are.\n",
        "print(\"\\nPredictions have been made on the training and testing sets.\")"
      ],
      "metadata": {
        "colab": {
          "base_uri": "https://localhost:8080/"
        },
        "id": "yw8SNsf-qu_Z",
        "outputId": "a11be2df-2565-4900-c4a9-5db64460a6cc"
      },
      "execution_count": 13,
      "outputs": [
        {
          "output_type": "stream",
          "name": "stdout",
          "text": [
            "Training the Random Forest model...\n",
            "Model training complete.\n",
            "\n",
            "Predictions have been made on the training and testing sets.\n"
          ]
        }
      ]
    },
    {
      "cell_type": "markdown",
      "source": [
        "**Model Validation**\n",
        "\n",
        "Having completed the training we must now rigorously evaluate its performance on both the data it was trained on and the unseen test data. This tells us not only how accurate the model is and whether we have overfitting.\n",
        "\n",
        "For our regression task, we will use two standard metrics:\n",
        "\n",
        "Coefficient of Determination (R\n",
        "2\n",
        " ): This metric indicates the proportion of the variance in the dependent variable (logS) that is predictable from the independent variables (our molecular features). An R\n",
        "2\n",
        "  value of 1.0 means the model makes perfect predictions. An R\n",
        "2\n",
        "  of 0 means the model is no better than just predicting the mean of the data. The closer to 1.0, the better.\n",
        "\n",
        "Root Mean Squared Error (RMSE): This is the square root of the average of squared differences between the actual and predicted values. The RMSE is in the same unit as our target variable (logS), making it easy to interpret. A smaller RMSE value indicates a better fit to the data.\n",
        "\n",
        "By comparing the R\n",
        "2\n",
        "  and RMSE on the training set versus the test set, we can diagnose the model's health. If the training scores are much better than the test scores, it's a clear sign of overfitting.\n",
        "\n",
        "Finally, we will create a scatter plot of the actual vs. predicted values. For a good model, the points should fall closely along a diagonal line where Actual = Predicted."
      ],
      "metadata": {
        "id": "l1TNNDYusphn"
      }
    },
    {
      "cell_type": "code",
      "source": [
        "from sklearn.metrics import mean_squared_error, r2_score\n",
        "import matplotlib.pyplot as plt\n",
        "import numpy as np\n",
        "\n",
        "# 1. Evaluate the model on the TRAINING data\n",
        "r2_train = r2_score(y_train, y_pred_train)\n",
        "rmse_train = np.sqrt(mean_squared_error(y_train, y_pred_train))\n",
        "\n",
        "# 2. Evaluate the model on the TESTING data\n",
        "r2_test = r2_score(y_test, y_pred_test)\n",
        "rmse_test = np.sqrt(mean_squared_error(y_test, y_pred_test))\n",
        "\n",
        "# 3. Print the performance metrics\n",
        "print(\"Model Performance Evaluation\")\n",
        "print(\"--------------------------\")\n",
        "print(f\"Training R-squared (R²): {r2_train:.4f}\")\n",
        "print(f\"Training RMSE: {rmse_train:.4f}\")\n",
        "print(\"-\" * 26)\n",
        "print(f\"Testing R-squared (R²): {r2_test:.4f}\")\n",
        "print(f\"Testing RMSE: {rmse_test:.4f}\")\n",
        "\n",
        "\n",
        "# 4. Visualize the results with a scatter plot\n",
        "plt.figure(figsize=(8, 8))\n",
        "plt.scatter(y_test, y_pred_test, alpha=0.7, edgecolors='k')\n",
        "\n",
        "# Add a line for perfect predictions\n",
        "lims = [min(plt.xlim(), plt.ylim()), max(plt.xlim(), plt.ylim())]\n",
        "plt.plot(lims, lims, 'r--', alpha=0.75, zorder=0)\n",
        "\n",
        "plt.xlabel(\"Actual LogS\", fontsize=14)\n",
        "plt.ylabel(\"Predicted LogS\", fontsize=14)\n",
        "plt.title(\"Actual vs. Predicted LogS on Test Set\", fontsize=16)\n",
        "plt.grid(True)\n",
        "plt.axis('equal') # Ensures the x and y axes have the same scale\n",
        "plt.tight_layout()\n",
        "plt.show()"
      ],
      "metadata": {
        "colab": {
          "base_uri": "https://localhost:8080/",
          "height": 934
        },
        "id": "1a7XOqtbvFSa",
        "outputId": "0f24e66e-f46f-4921-91a3-f6b0a2b80eb5"
      },
      "execution_count": 14,
      "outputs": [
        {
          "output_type": "stream",
          "name": "stdout",
          "text": [
            "Model Performance Evaluation\n",
            "--------------------------\n",
            "Training R-squared (R²): 0.9790\n",
            "Training RMSE: 0.3041\n",
            "--------------------------\n",
            "Testing R-squared (R²): 0.8963\n",
            "Testing RMSE: 0.6720\n"
          ]
        },
        {
          "output_type": "display_data",
          "data": {
            "text/plain": [
              "<Figure size 800x800 with 1 Axes>"
            ],
            "image/png": "[encoded data removed]"
          },
          "metadata": {}
        }
      ]
    },
    {
      "cell_type": "markdown",
      "source": [
        "**Hyperparameter Tuning**\n",
        "\n",
        "\n",
        "Our initial model showed signs of overfitting, where it performed significantly better on the training data than on the unseen test data. To address this, we will perform hyperparameter tuning.\n",
        "\n",
        "Hyperparameters are settings of a model that are not learned from the data itself but are set by the user before the training process begins. For Random Forest, this includes settings like:\n",
        "\n",
        "**n_estimators**: The number of trees in the forest.\n",
        "**max_depth**: The maximum depth of each individual tree.\n",
        "**max_features**: The number of features to consider when looking for the best split.\n",
        "**min_samples_leaf**: The minimum number of samples required to be at a leaf node.\n",
        "By tuning these, we can control the model's complexity. For instance, limiting the max_depth can prevent the trees from growing too complex and memorizing noise, thus reducing overfitting.\n",
        "\n",
        "We will use a technique called Grid Search with Cross-Validation (GridSearchCV) from Scikit-learn. This will automatically test various combinations of these hyperparameters and, through a process of cross-validation on the training set, identify the combination that produces the most generalizable model."
      ],
      "metadata": {
        "id": "A8O_iPoOxgPF"
      }
    },
    {
      "cell_type": "code",
      "source": [
        "from sklearn.model_selection import GridSearchCV\n",
        "\n",
        "# 1. Define the grid of hyperparameters to search\n",
        "# We'll test a few combinations to see if we can improve the model\n",
        "param_grid = {\n",
        "    'n_estimators': [50, 100, 200],      # Number of trees in the forest\n",
        "    'max_depth': [None, 10, 20],       # Maximum depth of the tree\n",
        "    'max_features': ['sqrt', 'log2'], # Number of features to consider at every split\n",
        "    'min_samples_leaf': [1, 2, 4]      # Minimum number of samples required at a leaf node\n",
        "}\n",
        "\n",
        "# 2. Instantiate the GridSearchCV object\n",
        "# We're using our original rf_model, but GridSearchCV will create new versions of it.\n",
        "# cv=5 means 5-fold cross-validation.\n",
        "# n_jobs=-1 uses all available CPU cores to speed up the process.\n",
        "# 'neg_mean_squared_error' is used because grid search maximizes a score,\n",
        "# so it maximizes the negative of MSE (which is equivalent to minimizing MSE).\n",
        "grid_search = GridSearchCV(estimator=RandomForestRegressor(random_state=42),\n",
        "                           param_grid=param_grid,\n",
        "                           cv=5,\n",
        "                           n_jobs=-1,\n",
        "                           scoring='neg_mean_squared_error',\n",
        "                           verbose=2)\n",
        "\n",
        "# 3. Fit the grid search to the training data\n",
        "print(\"Performing hyperparameter tuning with GridSearchCV...\")\n",
        "grid_search.fit(X_train, y_train)\n",
        "\n",
        "# 4. Print the best parameters found\n",
        "print(\"\\nBest hyperparameters found by GridSearchCV:\")\n",
        "print(grid_search.best_params_)\n",
        "\n",
        "# 5. Get the best model\n",
        "best_rf_model = grid_search.best_estimator_\n",
        "\n",
        "# 6. Evaluate the new, tuned model\n",
        "y_pred_train_best = best_rf_model.predict(X_train)\n",
        "y_pred_test_best = best_rf_model.predict(X_test)\n",
        "\n",
        "r2_train_best = r2_score(y_train, y_pred_train_best)\n",
        "rmse_train_best = np.sqrt(mean_squared_error(y_train, y_pred_train_best))\n",
        "r2_test_best = r2_score(y_test, y_pred_test_best)\n",
        "rmse_test_best = np.sqrt(mean_squared_error(y_test, y_pred_test_best))\n",
        "\n",
        "\n",
        "# 7. Print the performance of the tuned model\n",
        "print(\"\\n--- Performance of Tuned Model ---\")\n",
        "print(f\"Training R-squared (R²): {r2_train_best:.4f}\")\n",
        "print(f\"Training RMSE: {rmse_train_best:.4f}\")\n",
        "print(\"-\" * 32)\n",
        "print(f\"Testing R-squared (R²): {r2_test_best:.4f}\")\n",
        "print(f\"Testing RMSE: {rmse_test_best:.4f}\")"
      ],
      "metadata": {
        "colab": {
          "base_uri": "https://localhost:8080/"
        },
        "id": "sUMWelcCx1Ps",
        "outputId": "f99ca638-aa2b-43a8-d9de-3350fd2bd8d7"
      },
      "execution_count": 15,
      "outputs": [
        {
          "output_type": "stream",
          "name": "stdout",
          "text": [
            "Performing hyperparameter tuning with GridSearchCV...\n",
            "Fitting 5 folds for each of 54 candidates, totalling 270 fits\n",
            "\n",
            "Best hyperparameters found by GridSearchCV:\n",
            "{'max_depth': 10, 'max_features': 'sqrt', 'min_samples_leaf': 1, 'n_estimators': 200}\n",
            "\n",
            "--- Performance of Tuned Model ---\n",
            "Training R-squared (R²): 0.9670\n",
            "Training RMSE: 0.3813\n",
            "--------------------------------\n",
            "Testing R-squared (R²): 0.8936\n",
            "Testing RMSE: 0.6808\n"
          ]
        }
      ]
    },
    {
      "cell_type": "markdown",
      "source": [
        "**Interpretation of Results - Feature Importance**\n",
        "\n",
        "\n",
        "Which of the molecular features that we engineered are the most important for predicting aqueous solubility?\n",
        "\n",
        "A major advantage of tree-based models like Random Forest is that they can provide feature importance scores. These scores represent the relative contribution of each feature to the model's predictive accuracy. A higher score means the feature was more important.\n",
        "\n",
        "Analyzing feature importance is critical because it connects the abstract machine learning model back to the real-world chemistry. It allows us to gain scientific insights into the structure-property relationships and validate whether the model is making decisions based on sound chemical principles. For example, for solubility, we might expect features related to polarity and size to be very important."
      ],
      "metadata": {
        "id": "oYeDZcMyzGr4"
      }
    },
    {
      "cell_type": "code",
      "source": [
        "import pandas as pd\n",
        "import matplotlib.pyplot as plt\n",
        "\n",
        "# 1. Get feature importances from our best tuned model\n",
        "importances = best_rf_model.feature_importances_\n",
        "feature_names = X_train.columns\n",
        "\n",
        "# 2. Create a DataFrame for easier visualization\n",
        "feature_importance_df = pd.DataFrame({\n",
        "    'Feature': feature_names,\n",
        "    'Importance': importances\n",
        "}).sort_values(by='Importance', ascending=False)\n",
        "\n",
        "# 3. Print the feature importances\n",
        "print(\"Feature Importances from the Tuned Model:\")\n",
        "print(feature_importance_df)\n",
        "\n",
        "# 4. Plot the feature importances\n",
        "plt.figure(figsize=(10, 6))\n",
        "plt.bar(feature_importance_df['Feature'], feature_importance_df['Importance'], color='skyblue')\n",
        "plt.xlabel('Features', fontsize=14)\n",
        "plt.ylabel('Importance', fontsize=14)\n",
        "plt.title('Feature Importance for LogS Prediction', fontsize=16)\n",
        "plt.xticks(rotation=45)\n",
        "plt.tight_layout()\n",
        "plt.show()"
      ],
      "metadata": {
        "colab": {
          "base_uri": "https://localhost:8080/",
          "height": 734
        },
        "id": "qPSw2gTwzSf0",
        "outputId": "b17fce66-940f-48b0-afc5-76ad4158ac54"
      },
      "execution_count": 16,
      "outputs": [
        {
          "output_type": "stream",
          "name": "stdout",
          "text": [
            "Feature Importances from the Tuned Model:\n",
            "         Feature  Importance\n",
            "1        MolLogP    0.532722\n",
            "0          MolWt    0.295239\n",
            "4           TPSA    0.082427\n",
            "3  NumHAcceptors    0.070901\n",
            "2     NumHDonors    0.018710\n"
          ]
        },
        {
          "output_type": "display_data",
          "data": {
            "text/plain": [
              "<Figure size 1000x600 with 1 Axes>"
            ],
            "image/png": "[encoded data removed]"
          },
          "metadata": {}
        }
      ]
    },
    {
      "cell_type": "markdown",
      "source": [
        "**Interpretation of Feature Importance Results**\n",
        "\n",
        "\n",
        "Our tuned model has ranked the molecular features as follows:\n",
        "\n",
        "**MolLogP (53.3%)**: This is, by a large margin, the most important feature. MolLogP is the logarithm of the octanol-water partition coefficient, which is the classic measure of a molecule's lipophilicity (or hydrophobicity/greasiness). It makes perfect chemical sense that this is the #1 predictor of aqueous (water) solubility. As a general rule, the more greasy/hydrophobic a molecule is (higher LogP), the less soluble it is in water. Our model correctly learned this fundamental chemical principle.\n",
        "\n",
        "**MolWt (29.5%)**: Molecular Weight is the second most important feature. This is also chemically intuitive. Larger and heavier molecules generally have lower solubility because it requires more energy to create a \"cavity\" for them in the water's hydrogen-bonded network.\n",
        "\n",
        "**TPSA, NumHAcceptors, NumHDonors (combined ~18%)**: These three features all relate to a molecule's polarity and its ability to form hydrogen bonds with water molecules. It is this hydrogen bonding that allows polar molecules like sugar to dissolve so well. For the specific dataset of halogenated hydrocarbons we are using, many molecules have few or no hydrogen bonding capabilities, which is likely why these features are less dominant than MolLogP and MolWt. Still, they provide a crucial part of the picture.\n",
        "\n",
        "In summary: Our model has successfully learned key physicochemical principles from the data. It concluded that a molecule's solubility is primarily driven by its hydrophobicity and its size, with polarity playing a secondary but still significant role. This is a scientifically sound and interpretable result."
      ],
      "metadata": {
        "id": "zi5kcPyCz_u5"
      }
    }
  ]
}